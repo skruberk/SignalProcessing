{
 "cells": [
  {
   "cell_type": "code",
   "execution_count": 45,
   "id": "9d238028-422a-4b02-b4e0-63b7a665ac4e",
   "metadata": {},
   "outputs": [],
   "source": [
    "#time series \n",
    "import pandas as pd\n",
    "from datetime import datetime \n",
    "%matplotlib inline \n",
    "from dateutil import parser\n",
    "import matplotlib.pyplot as plt\n",
    "from matplotlib import dates\n",
    "from sklearn.metrics import mean_squared_error,mean_absolute_error\n",
    "from statsmodels.tsa.filters.hp_filter import hpfilter\n",
    "from statsmodels.tsa.holtwinters import ExponentialSmoothing"
   ]
  },
  {
   "cell_type": "code",
   "execution_count": 46,
   "id": "db371fc5-41bd-4078-a991-91c90b8d5c93",
   "metadata": {},
   "outputs": [],
   "source": [
    "date_format = lambda x: datetime.strptime(x, '%m/%d/%y')"
   ]
  },
  {
   "cell_type": "code",
   "execution_count": 67,
   "id": "60a9a6c8-a8ee-449c-bac2-23933805bd26",
   "metadata": {},
   "outputs": [
    {
     "data": {
      "text/html": [
       "<div>\n",
       "<style scoped>\n",
       "    .dataframe tbody tr th:only-of-type {\n",
       "        vertical-align: middle;\n",
       "    }\n",
       "\n",
       "    .dataframe tbody tr th {\n",
       "        vertical-align: top;\n",
       "    }\n",
       "\n",
       "    .dataframe thead th {\n",
       "        text-align: right;\n",
       "    }\n",
       "</style>\n",
       "<table border=\"1\" class=\"dataframe\">\n",
       "  <thead>\n",
       "    <tr style=\"text-align: right;\">\n",
       "      <th></th>\n",
       "      <th>Month</th>\n",
       "      <th>Thousands of Passengers</th>\n",
       "    </tr>\n",
       "  </thead>\n",
       "  <tbody>\n",
       "    <tr>\n",
       "      <th>0</th>\n",
       "      <td>1949-01</td>\n",
       "      <td>112</td>\n",
       "    </tr>\n",
       "    <tr>\n",
       "      <th>1</th>\n",
       "      <td>1949-02</td>\n",
       "      <td>118</td>\n",
       "    </tr>\n",
       "    <tr>\n",
       "      <th>2</th>\n",
       "      <td>1949-03</td>\n",
       "      <td>132</td>\n",
       "    </tr>\n",
       "    <tr>\n",
       "      <th>3</th>\n",
       "      <td>1949-04</td>\n",
       "      <td>129</td>\n",
       "    </tr>\n",
       "    <tr>\n",
       "      <th>4</th>\n",
       "      <td>1949-05</td>\n",
       "      <td>121</td>\n",
       "    </tr>\n",
       "  </tbody>\n",
       "</table>\n",
       "</div>"
      ],
      "text/plain": [
       "     Month  Thousands of Passengers\n",
       "0  1949-01                      112\n",
       "1  1949-02                      118\n",
       "2  1949-03                      132\n",
       "3  1949-04                      129\n",
       "4  1949-05                      121"
      ]
     },
     "execution_count": 67,
     "metadata": {},
     "output_type": "execute_result"
    }
   ],
   "source": [
    "df = pd.read_csv('time.csv')\n",
    "df.head()"
   ]
  },
  {
   "cell_type": "code",
   "execution_count": 251,
   "id": "508b1fde-1132-49f2-8119-efaa37ab17b8",
   "metadata": {},
   "outputs": [
    {
     "data": {
      "text/html": [
       "<div>\n",
       "<style scoped>\n",
       "    .dataframe tbody tr th:only-of-type {\n",
       "        vertical-align: middle;\n",
       "    }\n",
       "\n",
       "    .dataframe tbody tr th {\n",
       "        vertical-align: top;\n",
       "    }\n",
       "\n",
       "    .dataframe thead th {\n",
       "        text-align: right;\n",
       "    }\n",
       "</style>\n",
       "<table border=\"1\" class=\"dataframe\">\n",
       "  <thead>\n",
       "    <tr style=\"text-align: right;\">\n",
       "      <th></th>\n",
       "      <th>Thousands of Passengers</th>\n",
       "    </tr>\n",
       "    <tr>\n",
       "      <th>Month</th>\n",
       "      <th></th>\n",
       "    </tr>\n",
       "  </thead>\n",
       "  <tbody>\n",
       "    <tr>\n",
       "      <th>1949-01</th>\n",
       "      <td>112</td>\n",
       "    </tr>\n",
       "    <tr>\n",
       "      <th>1949-02</th>\n",
       "      <td>118</td>\n",
       "    </tr>\n",
       "    <tr>\n",
       "      <th>1949-03</th>\n",
       "      <td>132</td>\n",
       "    </tr>\n",
       "    <tr>\n",
       "      <th>1949-04</th>\n",
       "      <td>129</td>\n",
       "    </tr>\n",
       "    <tr>\n",
       "      <th>1949-05</th>\n",
       "      <td>121</td>\n",
       "    </tr>\n",
       "  </tbody>\n",
       "</table>\n",
       "</div>"
      ],
      "text/plain": [
       "         Thousands of Passengers\n",
       "Month                           \n",
       "1949-01                      112\n",
       "1949-02                      118\n",
       "1949-03                      132\n",
       "1949-04                      129\n",
       "1949-05                      121"
      ]
     },
     "execution_count": 251,
     "metadata": {},
     "output_type": "execute_result"
    }
   ],
   "source": [
    "df = pd.read_csv('time.csv',index_col='Month', parse_dates=True,date_format=date_format) #dparse_dates=True,index_col='Datetime',date_parser=date_parser \n",
    "df.head()"
   ]
  },
  {
   "cell_type": "code",
   "execution_count": 252,
   "id": "0a7564d9-868f-4ee7-86ad-c345fc3f6250",
   "metadata": {},
   "outputs": [],
   "source": [
    "df.reset_index(inplace=True)"
   ]
  },
  {
   "cell_type": "code",
   "execution_count": 253,
   "id": "97d91799-5da3-4267-bbe1-d4c7e340fa0b",
   "metadata": {},
   "outputs": [
    {
     "data": {
      "text/html": [
       "<div>\n",
       "<style scoped>\n",
       "    .dataframe tbody tr th:only-of-type {\n",
       "        vertical-align: middle;\n",
       "    }\n",
       "\n",
       "    .dataframe tbody tr th {\n",
       "        vertical-align: top;\n",
       "    }\n",
       "\n",
       "    .dataframe thead th {\n",
       "        text-align: right;\n",
       "    }\n",
       "</style>\n",
       "<table border=\"1\" class=\"dataframe\">\n",
       "  <thead>\n",
       "    <tr style=\"text-align: right;\">\n",
       "      <th></th>\n",
       "      <th>Month</th>\n",
       "      <th>y</th>\n",
       "    </tr>\n",
       "  </thead>\n",
       "  <tbody>\n",
       "    <tr>\n",
       "      <th>0</th>\n",
       "      <td>1949-01</td>\n",
       "      <td>112</td>\n",
       "    </tr>\n",
       "    <tr>\n",
       "      <th>1</th>\n",
       "      <td>1949-02</td>\n",
       "      <td>118</td>\n",
       "    </tr>\n",
       "    <tr>\n",
       "      <th>2</th>\n",
       "      <td>1949-03</td>\n",
       "      <td>132</td>\n",
       "    </tr>\n",
       "    <tr>\n",
       "      <th>3</th>\n",
       "      <td>1949-04</td>\n",
       "      <td>129</td>\n",
       "    </tr>\n",
       "    <tr>\n",
       "      <th>4</th>\n",
       "      <td>1949-05</td>\n",
       "      <td>121</td>\n",
       "    </tr>\n",
       "  </tbody>\n",
       "</table>\n",
       "</div>"
      ],
      "text/plain": [
       "     Month    y\n",
       "0  1949-01  112\n",
       "1  1949-02  118\n",
       "2  1949-03  132\n",
       "3  1949-04  129\n",
       "4  1949-05  121"
      ]
     },
     "execution_count": 253,
     "metadata": {},
     "output_type": "execute_result"
    }
   ],
   "source": [
    "df.rename(columns={'index': 'Date','Thousands of Passengers': 'y'}, inplace=True)\n",
    "df.head()"
   ]
  },
  {
   "cell_type": "code",
   "execution_count": 254,
   "id": "b34d5836-32a2-4bf5-89be-a11d009ee17b",
   "metadata": {},
   "outputs": [
    {
     "data": {
      "image/png": "[encoded data removed]",
      "text/plain": [
       "<Figure size 640x480 with 1 Axes>"
      ]
     },
     "metadata": {},
     "output_type": "display_data"
    }
   ],
   "source": [
    "df[['y']].plot(legend=True)\n",
    "plt.show()"
   ]
  },
  {
   "cell_type": "code",
   "execution_count": 255,
   "id": "fdb34cfd-d70e-4890-9fac-03e547b9790b",
   "metadata": {},
   "outputs": [
    {
     "name": "stdout",
     "output_type": "stream",
     "text": [
      "<class 'pandas.core.frame.DataFrame'>\n",
      "RangeIndex: 144 entries, 0 to 143\n",
      "Data columns (total 2 columns):\n",
      " #   Column  Non-Null Count  Dtype \n",
      "---  ------  --------------  ----- \n",
      " 0   Month   144 non-null    object\n",
      " 1   y       144 non-null    int64 \n",
      "dtypes: int64(1), object(1)\n",
      "memory usage: 2.4+ KB\n"
     ]
    }
   ],
   "source": [
    "df.info()"
   ]
  },
  {
   "cell_type": "code",
   "execution_count": 256,
   "id": "5c0c3ac2-bfed-4b18-9c9f-4894f64e3d33",
   "metadata": {},
   "outputs": [
    {
     "data": {
      "text/plain": [
       "'1957-05'"
      ]
     },
     "execution_count": 256,
     "metadata": {},
     "output_type": "execute_result"
    }
   ],
   "source": [
    "splitrowi = 100\n",
    "splitdate = df.iloc[splitrowi]['Month']\n",
    "splitdate"
   ]
  },
  {
   "cell_type": "code",
   "execution_count": 257,
   "id": "4ad096fa-8f94-4045-919c-ab68952ae16b",
   "metadata": {},
   "outputs": [],
   "source": [
    "train_df = df.iloc[:splitrowi]\n",
    "test_df = df.iloc[splitrowi:]\n",
    "\n",
    "# split the row-based DataFrame by date\n",
    "train_df = df[df['Month'] < splitdate]\n",
    "test_df = df[df['Month'] >= splitdate]"
   ]
  },
  {
   "cell_type": "code",
   "execution_count": 258,
   "id": "df959d67-0592-40b0-9070-1cba82f32aa4",
   "metadata": {},
   "outputs": [],
   "source": [
    "#train_data = df.iloc[:100] # Goes up to but not including 108\n",
    "#test_data = df.iloc[100:]"
   ]
  },
  {
   "cell_type": "code",
   "execution_count": 259,
   "id": "b7216ab0-016e-4d53-8280-3e747f37b487",
   "metadata": {},
   "outputs": [
    {
     "data": {
      "text/html": [
       "<div>\n",
       "<style scoped>\n",
       "    .dataframe tbody tr th:only-of-type {\n",
       "        vertical-align: middle;\n",
       "    }\n",
       "\n",
       "    .dataframe tbody tr th {\n",
       "        vertical-align: top;\n",
       "    }\n",
       "\n",
       "    .dataframe thead th {\n",
       "        text-align: right;\n",
       "    }\n",
       "</style>\n",
       "<table border=\"1\" class=\"dataframe\">\n",
       "  <thead>\n",
       "    <tr style=\"text-align: right;\">\n",
       "      <th></th>\n",
       "      <th>Month</th>\n",
       "      <th>y</th>\n",
       "    </tr>\n",
       "  </thead>\n",
       "  <tbody>\n",
       "    <tr>\n",
       "      <th>139</th>\n",
       "      <td>1960-08</td>\n",
       "      <td>606</td>\n",
       "    </tr>\n",
       "    <tr>\n",
       "      <th>140</th>\n",
       "      <td>1960-09</td>\n",
       "      <td>508</td>\n",
       "    </tr>\n",
       "    <tr>\n",
       "      <th>141</th>\n",
       "      <td>1960-10</td>\n",
       "      <td>461</td>\n",
       "    </tr>\n",
       "    <tr>\n",
       "      <th>142</th>\n",
       "      <td>1960-11</td>\n",
       "      <td>390</td>\n",
       "    </tr>\n",
       "    <tr>\n",
       "      <th>143</th>\n",
       "      <td>1960-12</td>\n",
       "      <td>432</td>\n",
       "    </tr>\n",
       "  </tbody>\n",
       "</table>\n",
       "</div>"
      ],
      "text/plain": [
       "       Month    y\n",
       "139  1960-08  606\n",
       "140  1960-09  508\n",
       "141  1960-10  461\n",
       "142  1960-11  390\n",
       "143  1960-12  432"
      ]
     },
     "execution_count": 259,
     "metadata": {},
     "output_type": "execute_result"
    }
   ],
   "source": [
    "#df['Date'] = pd.to_datetime(df['Date'])\n",
    "#train_data = train_data.set_index('Month')\n",
    "#test_data = test_data.set_index('Month')\n",
    "test_df.tail()"
   ]
  },
  {
   "cell_type": "code",
   "execution_count": null,
   "id": "3644e547-9f2f-448b-8e33-c121f129557f",
   "metadata": {},
   "outputs": [],
   "source": []
  },
  {
   "cell_type": "code",
   "execution_count": 261,
   "id": "42c4e892-9deb-4c56-910d-28ac6b6822fa",
   "metadata": {},
   "outputs": [],
   "source": [
    "fitted_model = ExponentialSmoothing(train_df['y'],trend='mul',seasonal='mul',seasonal_periods=12).fit()   #dates=train_data.index freq='MS'"
   ]
  },
  {
   "cell_type": "code",
   "execution_count": 262,
   "id": "c23c637c-df70-486c-bdf7-51e180fbe584",
   "metadata": {},
   "outputs": [
    {
     "data": {
      "text/plain": [
       "100    349.048058\n",
       "101    397.822186\n",
       "102    444.097647\n",
       "103    438.942123\n",
       "104    389.671955\n",
       "105    341.995200\n",
       "106    300.365822\n",
       "107    342.956801\n",
       "108    351.855982\n",
       "109    345.164161\n",
       "110    402.008829\n",
       "111    392.798036\n",
       "112    394.310607\n",
       "113    449.409484\n",
       "114    501.685681\n",
       "115    495.861618\n",
       "116    440.202378\n",
       "117    386.343175\n",
       "118    339.315538\n",
       "119    387.429470\n",
       "120    397.482646\n",
       "121    389.923069\n",
       "122    454.139027\n",
       "123    443.733831\n",
       "124    445.442544\n",
       "125    507.686327\n",
       "126    566.741401\n",
       "127    560.162107\n",
       "128    497.285296\n",
       "129    436.441941\n",
       "130    383.316030\n",
       "131    437.669100\n",
       "132    449.025914\n",
       "133    440.486054\n",
       "134    513.029169\n",
       "135    501.274688\n",
       "136    503.204976\n",
       "137    573.520176\n",
       "138    640.233173\n",
       "139    632.800714\n",
       "Name: HW Forecast, dtype: float64"
      ]
     },
     "execution_count": 262,
     "metadata": {},
     "output_type": "execute_result"
    }
   ],
   "source": [
    "test_pred = fitted_model.forecast(40).rename('HW Forecast')\n",
    "test_pred"
   ]
  },
  {
   "cell_type": "code",
   "execution_count": 263,
   "id": "64046d97-5894-424e-9521-919887d8a5f7",
   "metadata": {},
   "outputs": [
    {
     "data": {
      "text/plain": [
       "<Axes: >"
      ]
     },
     "execution_count": 263,
     "metadata": {},
     "output_type": "execute_result"
    },
    {
     "data": {
      "image/png": "[encoded data removed]",
      "text/plain": [
       "<Figure size 600x400 with 1 Axes>"
      ]
     },
     "metadata": {},
     "output_type": "display_data"
    }
   ],
   "source": [
    "train_df['y'].plot(legend=True,label='TRAIN')\n",
    "test_df['y'].plot(legend=True,label='TEST',figsize=(6,4));\n",
    "test_pred.plot(label='PREDICTION')"
   ]
  },
  {
   "cell_type": "code",
   "execution_count": null,
   "id": "c65d724d-a3b1-4b17-bcd5-57aaa497c494",
   "metadata": {},
   "outputs": [],
   "source": []
  }
 ],
 "metadata": {
  "kernelspec": {
   "display_name": "Python 3 (ipykernel)",
   "language": "python",
   "name": "python3"
  },
  "language_info": {
   "codemirror_mode": {
    "name": "ipython",
    "version": 3
   },
   "file_extension": ".py",
   "mimetype": "text/x-python",
   "name": "python",
   "nbconvert_exporter": "python",
   "pygments_lexer": "ipython3",
   "version": "3.12.2"
  }
 },
 "nbformat": 4,
 "nbformat_minor": 5
}
